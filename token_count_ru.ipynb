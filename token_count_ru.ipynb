{
 "cells": [
  {
   "cell_type": "code",
   "execution_count": 1,
   "metadata": {},
   "outputs": [
    {
     "name": "stderr",
     "output_type": "stream",
     "text": [
      "/home/administrator/miniconda3/envs/vllm/lib/python3.9/site-packages/tqdm/auto.py:21: TqdmWarning: IProgress not found. Please update jupyter and ipywidgets. See https://ipywidgets.readthedocs.io/en/stable/user_install.html\n",
      "  from .autonotebook import tqdm as notebook_tqdm\n"
     ]
    }
   ],
   "source": [
    "from transformers import AutoTokenizer, GemmaTokenizer\n",
    "import pandas as pd\n",
    "from tqdm import tqdm"
   ]
  },
  {
   "cell_type": "code",
   "execution_count": 2,
   "metadata": {},
   "outputs": [],
   "source": [
    "# Текст для подсчета токенов\n",
    "text = \"\"\"Гляциологи из Калифорнийского университета в Ирвайне обнаружили доказательства проникновения теплой морской воды под антарктический ледник Туэйтса, прозванный ледником Судного дня. Согласно результатам исследования, опубликованного в журнале Труды Национальной академии наук, это указывает на то, что тревожные изменения, происходящие с ледником, могут стать необратимыми.\n",
    "Ледник Туэйтса располагается в Западной Антарктиде и частично является шельфовым, то есть его часть опирается на морское дно. Предполагается, что таяние ледника вызовет сход в океан огромной массы льда, располагающегося на суше, что вызовет резкий подъем уровня моря. Изменение климата способствует вторжению теплых вод у морского дна, которые воздействуют на линию заземления, где ледник отрывается от морского дна, и создают протяженные полости между дном и телом ледника. Таким образом, таяние усиливается и может приобрести необратимый характер.\n",
    "В новой работе ученые проанализировали данные, собранные с марта по июнь 2023 года созвездием коммерческих спутников, которые вращаются вокруг Земли по полярной орбите (пролегающей под прямым углом к экватору). На их борту находится интерферометрический радар с синтезированной апертурой, для постоянного мониторинга изменений на поверхности Земли. Спутники предоставили гляциологам долгосрочную серию ежедневных наблюдений за ледником Туэйтса, что позволило сопоставить происходящие с ним изменения с циклом приливов и отливов.\n",
    "Оказалось, что приливы вызывают периодическое отступление линии заземления на 2-6 километра. Морская вода, которая с приливом нагнетается в полости у подножия ледника, смешивается с талой пресной водой и создает достаточное давление, чтобы поднять лед над дном. В результате образуется еще больше пространства, куда может проникать теплая вода. Подсчитано, что нерегулярные вторжения морской воды происходят еще на шесть километров вглубь ледника. Поскольку морская вода замерзает при минус двух градусах Цельсия, она в большей степени способствует таянию Туэйтса, чем пресная вода.\n",
    "Авторы отмечают, что на данный момент недостаточно информации, чтобы с уверенностью сказать, сколько времени осталось до того, как вторжение океанской воды станет необратимым.\"\"\"\n",
    "\n",
    "# Подсчет количества символов и слов\n",
    "char_count = len(text)\n",
    "word_count = len(text.split())"
   ]
  },
  {
   "cell_type": "code",
   "execution_count": 15,
   "metadata": {},
   "outputs": [
    {
     "name": "stderr",
     "output_type": "stream",
     "text": [
      "Special tokens have been added in the vocabulary, make sure the associated word embeddings are fine-tuned or trained.\n",
      "  0%|          | 0/11 [00:00<?, ?it/s]Special tokens have been added in the vocabulary, make sure the associated word embeddings are fine-tuned or trained.\n",
      " 18%|█▊        | 2/11 [00:01<00:04,  1.96it/s]Special tokens have been added in the vocabulary, make sure the associated word embeddings are fine-tuned or trained.\n",
      " 27%|██▋       | 3/11 [00:01<00:04,  1.99it/s]Special tokens have been added in the vocabulary, make sure the associated word embeddings are fine-tuned or trained.\n",
      " 36%|███▋      | 4/11 [00:01<00:02,  2.48it/s]Special tokens have been added in the vocabulary, make sure the associated word embeddings are fine-tuned or trained.\n",
      " 45%|████▌     | 5/11 [00:01<00:02,  2.95it/s]Special tokens have been added in the vocabulary, make sure the associated word embeddings are fine-tuned or trained.\n",
      " 55%|█████▍    | 6/11 [00:02<00:02,  2.23it/s]Special tokens have been added in the vocabulary, make sure the associated word embeddings are fine-tuned or trained.\n",
      " 73%|███████▎  | 8/11 [00:04<00:01,  1.65it/s]Special tokens have been added in the vocabulary, make sure the associated word embeddings are fine-tuned or trained.\n",
      " 82%|████████▏ | 9/11 [00:04<00:01,  1.79it/s]Special tokens have been added in the vocabulary, make sure the associated word embeddings are fine-tuned or trained.\n",
      " 91%|█████████ | 10/11 [00:04<00:00,  1.86it/s]Special tokens have been added in the vocabulary, make sure the associated word embeddings are fine-tuned or trained.\n",
      "100%|██████████| 11/11 [00:05<00:00,  1.93it/s]\n"
     ]
    }
   ],
   "source": [
    "# Список имен моделей\n",
    "model_names = [\"Vikhrmodels/Vikhr-7B-instruct_0.4\", \n",
    "               \"unsloth/Mistral-Nemo-Instruct-2407\",\n",
    "               \"NousResearch/Meta-Llama-3-8B-Instruct\", \n",
    "               \"openchat/openchat-3.5-0106\", \n",
    "               \"microsoft/Phi-3-medium-128k-instruct\",\n",
    "               \"Xenova/gpt-4o\",\n",
    "               \"Qwen/Qwen2-7B-Instruct\",\n",
    "               \"unsloth/gemma-2-9b\",\n",
    "               \"deepseek-ai/DeepSeek-V2-Lite-Chat\",\n",
    "               \"AnatoliiPotapov/T-lite-instruct-0.1\",\n",
    "               \"CohereForAI/aya-23-35B\"]\n",
    "\n",
    "# Список для хранения результатов\n",
    "results = []\n",
    "\n",
    "# Первая модель для сравнения\n",
    "first_model = model_names[0]\n",
    "first_model_token_count = len(AutoTokenizer.from_pretrained(first_model).encode(text))\n",
    "\n",
    "# Для каждой модели\n",
    "for model_name in tqdm(model_names):\n",
    "    # Загрузка модели и токенизатора\n",
    "    tokenizer = AutoTokenizer.from_pretrained(model_name)\n",
    "\n",
    "    # Подсчет токенов\n",
    "    token_count = len(tokenizer.tokenize(text))\n",
    "\n",
    "    # Изменение в процентах\n",
    "    percent_change = (token_count - first_model_token_count) / first_model_token_count * 100\n",
    "\n",
    "    # Размер словаря токенизатора\n",
    "    vocab_size = len(tokenizer)\n",
    "\n",
    "    # Добавление результата в список\n",
    "    results.append({'model_name': model_name,\n",
    "                    'ru_token_count': token_count,\n",
    "                    'percent_change': int(percent_change),\n",
    "                    'char_per_token': round(char_count / token_count, 1),\n",
    "                    'word_per_token': round(word_count / token_count, 1),\n",
    "                    'vocab_size': vocab_size})  \n",
    "\n",
    "df = pd.DataFrame(results)"
   ]
  },
  {
   "cell_type": "code",
   "execution_count": 10,
   "metadata": {},
   "outputs": [
    {
     "name": "stdout",
     "output_type": "stream",
     "text": [
      "Гляциологи из Калифорнийского университета в Ирвайне обнаружили доказательства проникновения теплой морской воды под антарктический ледник Туэйтса, прозванный ледником Судного дня. Согласно результатам исследования, опубликованного в журнале Труды Национальной академии наук, это указывает на то, что тревожные изменения, происходящие с ледником, могут стать необратимыми.\n",
      "Ледник Туэйтса располагается в Западной Антарктиде и частично является шельфовым, то есть его часть опирается на морское дно. Предполагается, что таяние ледника вызовет сход в океан огромной массы льда, располагающегося на суше, что вызовет резкий подъем уровня моря. Изменение климата способствует вторжению теплых вод у морского дна, которые воздействуют на линию заземления, где ледник отрывается от морского дна, и создают протяженные полости между дном и телом ледника. Таким образом, таяние усиливается и может приобрести необратимый характер.\n",
      "В новой работе ученые проанализировали данные, собранные с марта по июнь 2023 года созвездием коммерческих спутников, которые вращаются вокруг Земли по полярной орбите (пролегающей под прямым углом к экватору). На их борту находится интерферометрический радар с синтезированной апертурой, для постоянного мониторинга изменений на поверхности Земли. Спутники предоставили гляциологам долгосрочную серию ежедневных наблюдений за ледником Туэйтса, что позволило сопоставить происходящие с ним изменения с циклом приливов и отливов.\n",
      "Оказалось, что приливы вызывают периодическое отступление линии заземления на 2-6 километра. Морская вода, которая с приливом нагнетается в полости у подножия ледника, смешивается с талой пресной водой и создает достаточное давление, чтобы поднять лед над дном. В результате образуется еще больше пространства, куда может проникать теплая вода. Подсчитано, что нерегулярные вторжения морской воды происходят еще на шесть километров вглубь ледника. Поскольку морская вода замерзает при минус двух градусах Цельсия, она в большей степени способствует таянию Туэйтса, чем пресная вода.\n",
      "Авторы отмечают, что на данный момент недостаточно информации, чтобы с уверенностью сказать, сколько времени осталось до того, как вторжение океанской воды станет необратимым.\n"
     ]
    }
   ],
   "source": [
    "print(text)"
   ]
  },
  {
   "cell_type": "code",
   "execution_count": 11,
   "metadata": {},
   "outputs": [
    {
     "name": "stdout",
     "output_type": "stream",
     "text": [
      "Количество символов: 2210\n",
      "Количество слов: 288\n"
     ]
    }
   ],
   "source": [
    "# Вывод количества символов и слов\n",
    "print(f\"Количество символов: {char_count}\")\n",
    "print(f\"Количество слов: {word_count}\")"
   ]
  },
  {
   "cell_type": "code",
   "execution_count": 17,
   "metadata": {},
   "outputs": [
    {
     "name": "stdout",
     "output_type": "stream",
     "text": [
      "                               model_name  ru_token_count  percent_change  char_per_token  word_per_token  vocab_size\n",
      "0       Vikhrmodels/Vikhr-7B-instruct_0.4             462               0             4.8             0.6       79099\n",
      "1                  CohereForAI/aya-23-35B             533              15             4.1             0.5      255029\n",
      "2                           Xenova/gpt-4o             585              26             3.8             0.5      200000\n",
      "3                      unsloth/gemma-2-9b             605              30             3.7             0.5      256000\n",
      "4      unsloth/Mistral-Nemo-Instruct-2407             633              37             3.5             0.5      131072\n",
      "5   NousResearch/Meta-Llama-3-8B-Instruct             677              46             3.3             0.4      128256\n",
      "6     AnatoliiPotapov/T-lite-instruct-0.1             680              47             3.2             0.4      128259\n",
      "7                  Qwen/Qwen2-7B-Instruct             753              62             2.9             0.4      151646\n",
      "8    microsoft/Phi-3-medium-128k-instruct             772              67             2.9             0.4       32011\n",
      "9              openchat/openchat-3.5-0106             842              82             2.6             0.3       32002\n",
      "10      deepseek-ai/DeepSeek-V2-Lite-Chat             860              86             2.6             0.3      100002\n"
     ]
    }
   ],
   "source": [
    "pd.set_option('display.width', 1000)\n",
    "print(df.sort_values('ru_token_count').reset_index(drop=True))"
   ]
  },
  {
   "cell_type": "code",
   "execution_count": null,
   "metadata": {},
   "outputs": [],
   "source": []
  }
 ],
 "metadata": {
  "kernelspec": {
   "display_name": "base",
   "language": "python",
   "name": "python3"
  },
  "language_info": {
   "codemirror_mode": {
    "name": "ipython",
    "version": 3
   },
   "file_extension": ".py",
   "mimetype": "text/x-python",
   "name": "python",
   "nbconvert_exporter": "python",
   "pygments_lexer": "ipython3",
   "version": "3.9.19"
  }
 },
 "nbformat": 4,
 "nbformat_minor": 2
}
